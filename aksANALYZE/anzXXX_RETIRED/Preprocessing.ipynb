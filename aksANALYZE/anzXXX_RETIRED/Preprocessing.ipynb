{
 "cells": [
  {
   "cell_type": "markdown",
   "id": "3c68ac6b",
   "metadata": {},
   "source": [
    "# DATA PREPROCESSING AND VISUALIZATION"
   ]
  },
  {
   "cell_type": "code",
   "execution_count": 1,
   "id": "d8ab23e6",
   "metadata": {},
   "outputs": [
    {
     "name": "stdout",
     "output_type": "stream",
     "text": [
      "scipy: 1.6.2\n",
      "numpy: 1.21.0\n",
      "matplotlib: <module 'matplotlib.pyplot' from '/opt/anaconda3/lib/python3.8/site-packages/matplotlib/pyplot.py'>\n",
      "pandas: 1.2.5\n",
      "statsmodels: 0.12.2\n",
      "sklearn: 0.24.2\n",
      "/Users/luis/Box/boxTEACH/tchCourses/2106 Lumiere/000 Akshita\n"
     ]
    }
   ],
   "source": [
    "# IMPORT STUFF\n",
    "# scipy\n",
    "import scipy\n",
    "print('scipy: %s' % scipy.__version__)\n",
    "# numpy\n",
    "import numpy as np\n",
    "print('numpy: %s' % np.__version__)\n",
    "# matplotlib\n",
    "import matplotlib.pyplot as plt\n",
    "print('matplotlib: %s' % plt)\n",
    "import time\n",
    "# pandas\n",
    "import pandas as pd\n",
    "print('pandas: %s' % pd.__version__)\n",
    "# statsmodels\n",
    "import statsmodels as md\n",
    "print('statsmodels: %s' % md.__version__)\n",
    "# scikit-learn\n",
    "import sklearn as sk\n",
    "print('sklearn: %s' % sk.__version__)\n",
    "\n",
    "import os\n",
    "print(os.path.abspath(os.getcwd()))\n"
   ]
  },
  {
   "cell_type": "code",
   "execution_count": 2,
   "id": "13c8e61d",
   "metadata": {
    "scrolled": true
   },
   "outputs": [
    {
     "name": "stdout",
     "output_type": "stream",
     "text": [
      "         date state    death  deathConfirmed  deathIncrease  deathProbable  \\\n",
      "0  2021-03-07    AK    305.0             NaN              0            NaN   \n",
      "1  2021-03-07    AL  10148.0          7963.0             -1         2185.0   \n",
      "2  2021-03-07    AR   5319.0          4308.0             22         1011.0   \n",
      "3  2021-03-07    AS      0.0             NaN              0            NaN   \n",
      "4  2021-03-07    AZ  16328.0         14403.0              5         1925.0   \n",
      "\n",
      "   hospitalized  hospitalizedCumulative  hospitalizedCurrently  \\\n",
      "0        1293.0                  1293.0                   33.0   \n",
      "1       45976.0                 45976.0                  494.0   \n",
      "2       14926.0                 14926.0                  335.0   \n",
      "3           NaN                     NaN                    NaN   \n",
      "4       57907.0                 57907.0                  963.0   \n",
      "\n",
      "   hospitalizedIncrease  ...  totalTestResults  totalTestResultsIncrease  \\\n",
      "0                     0  ...         1731628.0                         0   \n",
      "1                     0  ...         2323788.0                      2347   \n",
      "2                    11  ...         2736442.0                      3380   \n",
      "3                     0  ...            2140.0                         0   \n",
      "4                    44  ...         7908105.0                     45110   \n",
      "\n",
      "   totalTestsAntibody  totalTestsAntigen  totalTestsPeopleAntibody  \\\n",
      "0                 NaN                NaN                       NaN   \n",
      "1                 NaN                NaN                  119757.0   \n",
      "2                 NaN                NaN                       NaN   \n",
      "3                 NaN                NaN                       NaN   \n",
      "4            580569.0                NaN                  444089.0   \n",
      "\n",
      "   totalTestsPeopleAntigen  totalTestsPeopleViral  \\\n",
      "0                      NaN                    NaN   \n",
      "1                      NaN              2323788.0   \n",
      "2                 481311.0                    NaN   \n",
      "3                      NaN                    NaN   \n",
      "4                      NaN              3842945.0   \n",
      "\n",
      "   totalTestsPeopleViralIncrease  totalTestsViral  totalTestsViralIncrease  \n",
      "0                              0        1731628.0                        0  \n",
      "1                           2347              NaN                        0  \n",
      "2                              0        2736442.0                     3380  \n",
      "3                              0           2140.0                        0  \n",
      "4                          14856        7908105.0                    45110  \n",
      "\n",
      "[5 rows x 41 columns]\n"
     ]
    }
   ],
   "source": [
    "vars2load=[\"date\",\"state\", \"death\", 'deathProbable']\n",
    "\n",
    "df = pd.read_csv('DATA_all-states-history.csv',skiprows=0)\n",
    "\n",
    "print(df.head(5))\n",
    "# print(df.dtypes)"
   ]
  },
  {
   "cell_type": "code",
   "execution_count": 4,
   "id": "d4816890",
   "metadata": {
    "scrolled": false
   },
   "outputs": [
    {
     "name": "stdout",
     "output_type": "stream",
     "text": [
      "['AK' 'AL' 'AR' 'AS' 'AZ' 'CA' 'CO' 'CT' 'DC' 'DE' 'FL' 'GA' 'GU' 'HI'\n",
      " 'IA' 'ID' 'IL' 'IN' 'KS' 'KY' 'LA' 'MA' 'MD' 'ME' 'MI' 'MN' 'MO' 'MP'\n",
      " 'MS' 'MT' 'NC' 'ND' 'NE' 'NH' 'NJ' 'NM' 'NV' 'NY' 'OH' 'OK' 'OR' 'PA'\n",
      " 'PR' 'RI' 'SC' 'SD' 'TN' 'TX' 'UT' 'VA' 'VI' 'VT' 'WA' 'WI' 'WV' 'WY']\n"
     ]
    },
    {
     "data": {
      "image/png": "[encoded data removed]",
      "text/plain": [
       "<Figure size 1080x288 with 1 Axes>"
      ]
     },
     "metadata": {
      "needs_background": "light"
     },
     "output_type": "display_data"
    }
   ],
   "source": [
    "stateList = pd.unique(df['state'])\n",
    "dfState = pd.DataFrame(stateList)\n",
    "\n",
    "print(stateList)\n",
    "\n",
    "plt.figure(figsize=(15,4))\n",
    "for stateUs in stateList:\n",
    "    dfState = df[df['state'] == stateUs] \n",
    "    t = dfState['date'];\n",
    "    #t = np.linspace(1, 100, num=len(x));\n",
    "    x = dfState['death'];\n",
    "    plt.scatter(t, x)    \n",
    "    plt.show"
   ]
  },
  {
   "cell_type": "code",
   "execution_count": null,
   "id": "962304e2",
   "metadata": {},
   "outputs": [],
   "source": []
  }
 ],
 "metadata": {
  "kernelspec": {
   "display_name": "Python 3",
   "language": "python",
   "name": "python3"
  },
  "language_info": {
   "codemirror_mode": {
    "name": "ipython",
    "version": 3
   },
   "file_extension": ".py",
   "mimetype": "text/x-python",
   "name": "python",
   "nbconvert_exporter": "python",
   "pygments_lexer": "ipython3",
   "version": "3.8.8"
  }
 },
 "nbformat": 4,
 "nbformat_minor": 5
}
