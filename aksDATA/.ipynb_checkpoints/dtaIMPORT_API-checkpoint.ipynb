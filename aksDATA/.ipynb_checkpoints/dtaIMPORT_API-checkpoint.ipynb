{
 "cells": [
  {
   "cell_type": "code",
   "execution_count": 8,
   "id": "dd3ee10e",
   "metadata": {},
   "outputs": [
    {
     "name": "stderr",
     "output_type": "stream",
     "text": [
      "WARNING:root:Requests made without an app_token will be subject to strict throttling limits.\n"
     ]
    },
    {
     "name": "stdout",
     "output_type": "stream",
     "text": [
      "updated data set:\n",
      "\t/Users/luis/Box/boxTEACH/tchCourses/2106 Lumiere/lumAkshita/aksANALYZE/anzDATA/dtaCSV_SC_case_vs_race_vs_time.csv\n"
     ]
    }
   ],
   "source": [
    "import pandas as pd\n",
    "from sodapy import Socrata\n",
    "import os\n",
    "# update Santa Clara County api data sets\n",
    "client = Socrata(\"data.sccgov.org\", None)\n",
    "data_id = \"k7e9-hszp\"\n",
    "results = client.get(data_id)\n",
    "\n",
    "dfSantaClara = pd.DataFrame.from_records(results)\n",
    "fileName_SantaClara = os.getcwd() + '/' + 'dtaCSV_SC_case_vs_race_vs_time.csv'\n",
    "dfSantaClara.to_csv(fileName_SantaClara)\n",
    "\n",
    "print('updated data set:\\n\\t' + fileName_SantaClara)"
   ]
  }
 ],
 "metadata": {
  "kernelspec": {
   "display_name": "Python 3 (Spyder)",
   "language": "python3",
   "name": "python3"
  },
  "language_info": {
   "codemirror_mode": {
    "name": "ipython",
    "version": 3
   },
   "file_extension": ".py",
   "mimetype": "text/x-python",
   "name": "python",
   "nbconvert_exporter": "python",
   "pygments_lexer": "ipython3",
   "version": "3.8.8"
  }
 },
 "nbformat": 4,
 "nbformat_minor": 5
}
